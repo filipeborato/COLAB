{
  "nbformat": 4,
  "nbformat_minor": 0,
  "metadata": {
    "colab": {
      "name": "CROSS_VALIDATION.ipynb",
      "provenance": [],
      "collapsed_sections": []
    },
    "kernelspec": {
      "name": "python3",
      "display_name": "Python 3"
    }
  },
  "cells": [
    {
      "cell_type": "code",
      "metadata": {
        "id": "SmS-tOd6u9fO",
        "colab": {
          "base_uri": "https://localhost:8080/"
        },
        "outputId": "1d1266cb-ed78-4acc-b3fd-462036b4fa99"
      },
      "source": [
        "# Treinando e avaliando modelo preditivo usando VALIDAÇÃO CRUZADA\n",
        "\n",
        "# Importa bibliotecas necessárias \n",
        "import numpy as np\n",
        "from sklearn import  model_selection\n",
        "from sklearn.neighbors import KNeighborsClassifier\n",
        "from sklearn.metrics import confusion_matrix\n",
        "from sklearn.datasets import load_digits\n",
        "import pandas as pd\n",
        "\n",
        "# Carregando a base digits\n",
        "X, y = load_digits(return_X_y=True)\n",
        "print(X.shape)\n",
        "print(y.shape)\n",
        "\n",
        "# declarando o modelo\n",
        "clf = KNeighborsClassifier(n_neighbors=3,weights='distance',algorithm='ball_tree')\n",
        "\n",
        "# Usando a validação cruzada com 10 folds neste exemplo.\n",
        "folds=10\n",
        "result = model_selection.cross_val_score(clf, X, y, cv=folds)\n",
        "\n",
        "# mostrando a acurácia média e desvio padrão.\n",
        "print(\"\\nCross Validation Results %d folds:\" % folds)\n",
        "print(\"Mean Accuracy: %.5f\" % result.mean())\n",
        "print(\"Mean Std: %.5f\" % result.std())\n",
        "\n",
        "# matriz de confusão da validação cruzada\n",
        "predicted = model_selection.cross_val_predict(clf, X, y, cv=folds)\n",
        "cm=confusion_matrix(y, predicted)\n",
        "\n",
        "print(\"Confusion Matrix:\")\n",
        "print(cm)\n"
      ],
      "execution_count": null,
      "outputs": [
        {
          "output_type": "stream",
          "name": "stdout",
          "text": [
            "(1797, 64)\n",
            "(1797,)\n",
            "\n",
            "Cross Validation Results 10 folds:\n",
            "Mean Accuracy: 0.97718\n",
            "Mean Std: 0.01619\n",
            "Confusion Matrix:\n",
            "[[178   0   0   0   0   0   0   0   0   0]\n",
            " [  0 180   0   0   0   1   1   0   0   0]\n",
            " [  0   4 171   1   0   0   0   0   1   0]\n",
            " [  0   0   0 175   0   2   0   2   3   1]\n",
            " [  0   1   0   0 178   0   1   0   0   1]\n",
            " [  0   0   0   0   0 178   1   0   0   3]\n",
            " [  0   1   0   0   0   1 179   0   0   0]\n",
            " [  0   0   0   0   0   0   0 178   0   1]\n",
            " [  0   6   0   0   0   0   0   0 168   0]\n",
            " [  0   1   0   4   1   1   0   0   2 171]]\n"
          ]
        }
      ]
    }
  ]
}