{
 "cells": [
  {
   "cell_type": "markdown",
   "metadata": {},
   "source": [
    "# Filtros Digitais\n",
    "\n",
    "---\n",
    "\n",
    "O objetivo deste notebook é implementar e identificar os principais aspectos de dois filtros digitais essenciais, um filtro **sem** realimentação e outro **com** realimentação.\n",
    "\n",
    "* Filtro da Média Móvel (sem realimentação)\n",
    "* Filtro *Leaky Integrator* (com realimentação)\n",
    "\n"
   ]
  },
  {
   "cell_type": "markdown",
   "metadata": {},
   "source": [
    "## Filtro da Média Móvel (**Moving Average Filter**)\n",
    "\n",
    "---\n",
    "\n",
    "O Filtro da Média Móvel é um recurso simples que pode ser utilizado para reduzir ruído em sinais discretos.\n",
    "Este filtro basicamente produz na saída uma média aritmética de $N$ amostras consecutivas do sinal de entrada, a cada instante de tempo. \n",
    "Por exemplo, um Filtro da Média Móvel com uma janela de comprimento 3 possui a seguinte equação:\n",
    "\n",
    "### $$y[n]=\\frac{1}{3}(x[n]+x[n-1]+x[n-2])$$\n",
    "\n",
    "Generalizando para qualquer tamanho de janela, a sua equação de diferenças seria:\n",
    "\n",
    "### $$y[n]=\\frac{1}{N}\\sum_{i=0}^{N-1}{x[n-i]}$$\n",
    "\n",
    "Este tipo de filtro tem um custo computacional de implementação baixo, permitindo ser empregado em conjunto com os demais algoritmos em tempo real.\n",
    "\n",
    "Um fato importante é que este tipo de filtro reduz o ruído do sinal de entrada proporcionalmente ao número de amostras utilizado na média mas, simultaneamente e proporcionalmente, distorce o sinal original. Desta forma é sempre necessário buscar o tamanho da janela mais adequado para cada tipo de problema."
   ]
  },
  {
   "cell_type": "markdown",
   "metadata": {},
   "source": [
    "O script abaixo carrega, do arquivo **acs712_192us.m**, um sinal que consiste de uma sequência com 512 amostras de um sinal de corrente elétrica capturado com auxílio de um sensor do tipo ACS712 (https://www.sparkfun.com/datasheets/BreakoutBoards/0712.pdf)."
   ]
  },
  {
   "cell_type": "code",
   "execution_count": 1,
   "metadata": {},
   "outputs": [],
   "source": [
    "import numpy as np\n",
    "import matplotlib.pyplot as plt\n",
    "\n",
    "x = np.loadtxt('acs712_192us.m')\n",
    "n = np.arange(0,len(x))\n",
    "\n",
    "plt.title('Sinal de corrente amostrado com ACS712 x[n]')\n",
    "plt.plot(n, x)\n",
    "plt.show()\n",
    "\n",
    "plt.title('Zoom nas primeiras 100 amostras de x[n]')\n",
    "plt.plot(n[0:100], x[0:100])\n",
    "plt.show()"
   ]
  },
  {
   "cell_type": "markdown",
   "metadata": {},
   "source": [
    "É possível notar pelos gráficos que o sinal está contaminado com um ruído de pequena amplitude proveniente do processo de amostragem. Esse ruído se deve, dentre outros fatores, às características inerentes ao próprio sensor utilizado."
   ]
  },
  {
   "cell_type": "markdown",
   "metadata": {},
   "source": [
    "# To do\n",
    "\n",
    "1) Implemente um Filtro da Média Móvel com $N=3$ e gere um sinal de saída $y[n]$ a partir deste. Plote os dois sinais ($x[n]$ e $y[n]$), analise o resultado e faça suas considerações."
   ]
  },
  {
   "cell_type": "code",
   "execution_count": 2,
   "metadata": {},
   "outputs": [],
   "source": [
    "# TODO"
   ]
  },
  {
   "cell_type": "markdown",
   "metadata": {},
   "source": [
    "**Resp:**"
   ]
  },
  {
   "cell_type": "markdown",
   "metadata": {},
   "source": [
    "2) Implemente um Filtro da Média Móvel com $N=10$ e gere um sinal de saída $y[n]$ a partir deste. Plote os dois sinais ($x[n]$ e $y[n]$), analise o resultado e faça suas considerações, abordando inclusive o item anterior."
   ]
  },
  {
   "cell_type": "code",
   "execution_count": 3,
   "metadata": {},
   "outputs": [],
   "source": [
    "# TODO"
   ]
  },
  {
   "cell_type": "markdown",
   "metadata": {},
   "source": [
    "**Resp:**"
   ]
  },
  {
   "cell_type": "markdown",
   "metadata": {},
   "source": [
    "3) Faça algumas simulações com diferentes valores de $N$ e informe qual o melhor valor encontrado justificando a sua escolha."
   ]
  },
  {
   "cell_type": "code",
   "execution_count": 4,
   "metadata": {},
   "outputs": [],
   "source": [
    "# TODO"
   ]
  },
  {
   "cell_type": "markdown",
   "metadata": {},
   "source": [
    "**Resp:**"
   ]
  },
  {
   "cell_type": "markdown",
   "metadata": {},
   "source": [
    "## Filtro **Leaky Integrator**\n",
    "\n",
    "---\n",
    "\n",
    "O Leaky Integrator é um filtro digital que possui o comportamento de um filtro passa-baixas.\n",
    "Trata-se de um sistema discreto recursivo de primeira ordem que funciona como um integrador que deixa \"vazar\" uma pequena parte do sinal de entrada ao longo do tempo.\n",
    "\n",
    "Um Integrador (ou Acumulador) possui a seguinte equação de diferenças:\n",
    "\n",
    "### $$y[n]=\\sum_{k=-\\infty}^{n}{x[k]}$$\n",
    "\n",
    "Essa equação pode ser resumida a um modelo recursivo:\n",
    "\n",
    "### $$y[n]=x[n]+y[n-1]$$\n",
    "\n",
    "Se para o Integrador original escolhermos manter apenas uma fração $\\lambda$ do valor acumulado, deixando \"vazar\" uma fração de ($1-\\lambda$) chegaremos a uma variação do Integrador. Ainda nesse novo filtro, se o valor da fração \"vazada\" ($1-\\lambda$) for compensada no valor de entrada $x[n]$ chegaremos ao Filtro Leaky Integrator.\n",
    "\n",
    "Desta forma, a equação genérica do Filtro Leaky Integrator fica como a que está descrita logo abaixo. Nessa equação, a variável $\\lambda$ é um parâmetro de ajuste do filtro e não deve ser igual ou superior a 1 para evitar instabilidade.\n",
    "\n",
    "### $$y[n]=(1-\\lambda) \\cdot x[n]+\\lambda \\cdot y[n-1]$$\n",
    "\n",
    "Este tipo de filtro tem um custo computacional de implementação baixo, permitindo ser empregado em conjunto com os demais algoritmos em tempo real."
   ]
  },
  {
   "cell_type": "markdown",
   "metadata": {},
   "source": [
    "# To do\n",
    "\n",
    "1) Implemente um Filtro Leaky Integrator com $\\lambda=0.5$ e gere um sinal de saída $y[n]$ a partir deste. Plote os dois sinais ($x[n]$ e $y[n]$), analise o resultado e faça suas considerações."
   ]
  },
  {
   "cell_type": "code",
   "execution_count": 5,
   "metadata": {},
   "outputs": [],
   "source": [
    "# TODO"
   ]
  },
  {
   "cell_type": "markdown",
   "metadata": {},
   "source": [
    "**Resp:**"
   ]
  },
  {
   "cell_type": "markdown",
   "metadata": {},
   "source": [
    "2) Implemente um Filtro Leaky Integrator com $\\lambda=0.8$ e gere um sinal de saída $y[n]$ a partir deste. Plote os dois sinais ($x[n]$ e $y[n]$), analise o resultado e faça suas considerações, abordando inclusive o item anterior."
   ]
  },
  {
   "cell_type": "code",
   "execution_count": 6,
   "metadata": {},
   "outputs": [],
   "source": [
    "# TODO"
   ]
  },
  {
   "cell_type": "markdown",
   "metadata": {},
   "source": [
    "**Resp:**"
   ]
  },
  {
   "cell_type": "markdown",
   "metadata": {},
   "source": [
    "3) Faça algumas simulações com diferentes valores de  $\\lambda$  e informe qual o melhor valor encontrado justificando a sua escolha."
   ]
  },
  {
   "cell_type": "code",
   "execution_count": 7,
   "metadata": {},
   "outputs": [],
   "source": [
    "# TODO"
   ]
  },
  {
   "cell_type": "markdown",
   "metadata": {},
   "source": [
    "**Resp:**"
   ]
  },
  {
   "cell_type": "markdown",
   "metadata": {},
   "source": [
    "# Dados do aluno\n",
    "\n",
    "**Nome**:\n",
    "\n",
    "**Matrícula**:"
   ]
  }
 ],
 "metadata": {
  "kernelspec": {
   "display_name": "Python 3",
   "language": "python",
   "name": "python3"
  },
  "language_info": {
   "codemirror_mode": {
    "name": "ipython",
    "version": 3
   },
   "file_extension": ".py",
   "mimetype": "text/x-python",
   "name": "python",
   "nbconvert_exporter": "python",
   "pygments_lexer": "ipython3",
   "version": "3.5.6"
  }
 },
 "nbformat": 4,
 "nbformat_minor": 2
}
