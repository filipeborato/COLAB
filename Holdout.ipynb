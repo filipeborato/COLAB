{
  "nbformat": 4,
  "nbformat_minor": 0,
  "metadata": {
    "colab": {
      "name": "Holdout.ipynb",
      "provenance": []
    },
    "kernelspec": {
      "name": "python3",
      "display_name": "Python 3"
    }
  },
  "cells": [
    {
      "cell_type": "code",
      "metadata": {
        "id": "SmS-tOd6u9fO",
        "colab": {
          "base_uri": "https://localhost:8080/"
        },
        "outputId": "23c8bc78-1365-4d59-9476-fcf29a4b420a"
      },
      "source": [
        "# Treinando e avaliando modelo preditivo usando HOLDOUT\n",
        "\n",
        "# Importa bibliotecas necessárias \n",
        "import numpy as np\n",
        "from sklearn.neighbors import KNeighborsClassifier\n",
        "from sklearn.metrics import confusion_matrix\n",
        "from sklearn.model_selection import train_test_split\n",
        "from sklearn.datasets import load_digits\n",
        "\n",
        "# Carregando a base de dados Digits\n",
        "X, y = load_digits(return_X_y=True)\n",
        "print(X.shape)\n",
        "print(y.shape)\n",
        "\n",
        "# Holdout -> dividindo a base em treinamento e teste. Neste exemplo, treinamento (70%) e teste (30%), estratificada\n",
        "X_train, X_test, y_train, y_test = train_test_split(X,y,test_size=.3, random_state=42, stratify=y)\n",
        "\n",
        "# Declarando o classificador\n",
        "clfa = KNeighborsClassifier(n_neighbors=3)\n",
        "\n",
        "# Treinando o classificador\n",
        "clfa = clfa.fit(X_train, y_train)\n",
        "\n",
        "# Testando na base de testes\n",
        "predicted=clfa.predict(X_test)\n",
        "\n",
        "# Calculando a acurácia na base de teste\n",
        "score=clfa.score(X_test, y_test)\n",
        "\n",
        "# Calculando a matriz de confusão\n",
        "matrix = confusion_matrix(y_test, predicted)\n",
        "\n",
        "# Apresentando os resultados (acurácia neste exemplo)\n",
        "print(\"Accuracy = %.5f\" % (score*100))\n",
        "\n",
        "# Apresentando a matriz de confusão\n",
        "print(\"Confusion Matrix:\")\n",
        "print(matrix)\n",
        "\n",
        "# salvando o modelo\n",
        "from joblib import dump, load\n",
        "with open(\"clfa.mod\", 'wb') as fo:  \n",
        "    dump(clfa, fo)\n",
        "\n"
      ],
      "execution_count": null,
      "outputs": [
        {
          "output_type": "stream",
          "name": "stdout",
          "text": [
            "(1797, 64)\n",
            "(1797,)\n",
            "Accuracy = 98.70370\n",
            "Confusion Matrix:\n",
            "[[54  0  0  0  0  0  0  0  0  0]\n",
            " [ 0 55  0  0  0  0  0  0  0  0]\n",
            " [ 0  0 53  0  0  0  0  0  0  0]\n",
            " [ 0  0  0 55  0  0  0  0  0  0]\n",
            " [ 0  0  0  0 54  0  0  0  0  0]\n",
            " [ 0  0  0  0  0 54  0  0  0  1]\n",
            " [ 0  0  0  0  0  0 54  0  0  0]\n",
            " [ 0  0  0  0  0  0  0 54  0  0]\n",
            " [ 0  3  0  0  0  0  1  0 48  0]\n",
            " [ 0  0  0  0  1  0  0  0  1 52]]\n"
          ]
        }
      ]
    }
  ]
}